{
  "nbformat": 4,
  "nbformat_minor": 0,
  "metadata": {
    "colab": {
      "provenance": [],
      "authorship_tag": "ABX9TyNKfbk0B88UX5YQNVyB/BAU",
      "include_colab_link": true
    },
    "kernelspec": {
      "name": "python3",
      "display_name": "Python 3"
    },
    "language_info": {
      "name": "python"
    }
  },
  "cells": [
    {
      "cell_type": "markdown",
      "metadata": {
        "id": "view-in-github",
        "colab_type": "text"
      },
      "source": [
        "<a href=\"https://colab.research.google.com/github/sujeetgund/Langchain_rag/blob/main/Rag_on_Google_News.ipynb\" target=\"_parent\"><img src=\"https://colab.research.google.com/assets/colab-badge.svg\" alt=\"Open In Colab\"/></a>"
      ]
    },
    {
      "cell_type": "code",
      "execution_count": null,
      "metadata": {
        "collapsed": true,
        "id": "ockv4aXLUccW"
      },
      "outputs": [],
      "source": [
        "%pip install langchain langchain_community langchain-google-genai langchain-groq"
      ]
    },
    {
      "cell_type": "code",
      "source": [
        "import os\n",
        "from google.colab import userdata\n",
        "\n",
        "os.environ[\"GOOGLE_API_KEY\"] = userdata.get('GOOGLE_API_KEY')\n",
        "os.environ[\"GROQ_API_KEY\"] = userdata.get(\"GROQ_API_KEY\")\n"
      ],
      "metadata": {
        "id": "iN5KA9IqU164"
      },
      "execution_count": 1,
      "outputs": []
    },
    {
      "cell_type": "markdown",
      "source": [
        "## Model to generate response"
      ],
      "metadata": {
        "id": "SS8SptBkVW6U"
      }
    },
    {
      "cell_type": "code",
      "source": [
        "from langchain_google_genai import ChatGoogleGenerativeAI\n",
        "\n",
        "model = ChatGoogleGenerativeAI(model=\"models/gemini-2.0-flash\")"
      ],
      "metadata": {
        "id": "emnDGeuHVUp0"
      },
      "execution_count": 2,
      "outputs": []
    },
    {
      "cell_type": "markdown",
      "source": [
        "## Model to create embeddings"
      ],
      "metadata": {
        "id": "9GG1zzzwWHL4"
      }
    },
    {
      "cell_type": "code",
      "source": [
        "from langchain_google_genai import GoogleGenerativeAIEmbeddings\n",
        "\n",
        "embedding = GoogleGenerativeAIEmbeddings(model=\"models/text-embedding-004\")"
      ],
      "metadata": {
        "id": "R-NQp1OXWGlF"
      },
      "execution_count": 17,
      "outputs": []
    },
    {
      "cell_type": "markdown",
      "source": [
        "## Vector Store to save documents"
      ],
      "metadata": {
        "id": "QfsHfNVnW2KT"
      }
    },
    {
      "cell_type": "code",
      "source": [
        "from langchain_community.vectorstores import InMemoryVectorStore\n",
        "\n",
        "vector_store = InMemoryVectorStore(embedding)"
      ],
      "metadata": {
        "id": "ZosAKvF9W1ce"
      },
      "execution_count": 18,
      "outputs": []
    },
    {
      "cell_type": "markdown",
      "source": [
        "## Web Based Document Loader"
      ],
      "metadata": {
        "id": "KevTyh98XJ8s"
      }
    },
    {
      "cell_type": "code",
      "source": [
        "from langchain_community.document_loaders import WebBaseLoader\n",
        "import bs4\n",
        "\n",
        "loader = WebBaseLoader(\n",
        "    web_paths=[\n",
        "        \"https://www.financialexpress.com/money/cabinet-approves-incentive-scheme-for-low-value-upi-transactions-check-details-3781982/\"\n",
        "    ]\n",
        ")\n",
        "\n",
        "docs = loader.load()"
      ],
      "metadata": {
        "id": "7-CWBMGPXHds"
      },
      "execution_count": 10,
      "outputs": []
    },
    {
      "cell_type": "code",
      "source": [
        "docs"
      ],
      "metadata": {
        "id": "_93JDEa8Z8xG"
      },
      "execution_count": null,
      "outputs": []
    },
    {
      "cell_type": "markdown",
      "source": [
        "## Splitting Documents into Chunks"
      ],
      "metadata": {
        "id": "asbGNnxeZhdn"
      }
    },
    {
      "cell_type": "code",
      "source": [
        "from langchain_text_splitters import RecursiveCharacterTextSplitter\n",
        "\n",
        "text_splitter = RecursiveCharacterTextSplitter(chunk_size=500, chunk_overlap=50)\n",
        "chunks = text_splitter.split_documents(docs)\n",
        "\n",
        "len(chunks)"
      ],
      "metadata": {
        "colab": {
          "base_uri": "https://localhost:8080/"
        },
        "id": "rdmNsitgZSUC",
        "outputId": "ca4ef0a8-e66b-4453-f830-47be5d14ff6a"
      },
      "execution_count": 12,
      "outputs": [
        {
          "output_type": "execute_result",
          "data": {
            "text/plain": [
              "32"
            ]
          },
          "metadata": {},
          "execution_count": 12
        }
      ]
    },
    {
      "cell_type": "markdown",
      "source": [
        "## Store Documents into Vector Store"
      ],
      "metadata": {
        "id": "m_vyXYvxa1oE"
      }
    },
    {
      "cell_type": "code",
      "source": [
        "_ = vector_store.add_documents(documents=chunks)"
      ],
      "metadata": {
        "id": "GG-HINoOZ6qm"
      },
      "execution_count": 19,
      "outputs": []
    },
    {
      "cell_type": "markdown",
      "source": [
        "## Design Prompt"
      ],
      "metadata": {
        "id": "tOMEJX8Ybcbn"
      }
    },
    {
      "cell_type": "code",
      "source": [
        "from langchain_core.prompts import PromptTemplate\n",
        "\n",
        "template = PromptTemplate(\n",
        "    template=\"\"\"\n",
        "    You are an AI-powered news assistant. You have been provided with relevant context from a vector database containing news articles. Your task is to generate a well-structured, human-like response that satisfies the user's query using the given context. Ensure the response is clear, engaging, and informative. Fill any gaps using general knowledge when appropriate, but do not speculate. Maintain a neutral and professional tone.\n",
        "\n",
        "    Context: {context}\n",
        "    User Query: {query}\n",
        "\n",
        "    Provide a concise, factual, and user-friendly response.\"\"\",\n",
        "    input_variables = [\"context\", \"query\"]\n",
        ")"
      ],
      "metadata": {
        "id": "EWvxEgOmbKGr"
      },
      "execution_count": 21,
      "outputs": []
    },
    {
      "cell_type": "markdown",
      "source": [
        "## Write Class for RAG App"
      ],
      "metadata": {
        "id": "dvwc2slZc3_w"
      }
    },
    {
      "cell_type": "code",
      "source": [
        "class RAG:\n",
        "    def __init__(self, model, vector_store):\n",
        "      self.model = model\n",
        "      self.vector_store = vector_store\n",
        "      self.query = \"\"\n",
        "      self.context = \"\"\n",
        "      self.response = \"\"\n",
        "\n",
        "    def retrieve(self, query: str) -> str:\n",
        "      self.query = query\n",
        "      self.context = self.vector_store.similarity_search(query, k=3)\n",
        "      return self.context\n",
        "\n",
        "    def generate(self) -> str:\n",
        "      prompt = template.format(context=self.context, query=self.query)\n",
        "      self.response = self.model.invoke(prompt).content\n",
        "      return self.response\n"
      ],
      "metadata": {
        "id": "pZtpsN4DcvhM"
      },
      "execution_count": 27,
      "outputs": []
    },
    {
      "cell_type": "code",
      "source": [
        "app = RAG(model, vector_store)"
      ],
      "metadata": {
        "id": "4Uf0vYwReN92"
      },
      "execution_count": 28,
      "outputs": []
    },
    {
      "cell_type": "code",
      "source": [
        "query = \"Who will get incentive?\"\n",
        "\n",
        "app.retrieve(query)"
      ],
      "metadata": {
        "colab": {
          "base_uri": "https://localhost:8080/"
        },
        "id": "VR9yJr31eQQp",
        "outputId": "33bf1b01-b12e-4b94-8c3c-6f7cffe2f378"
      },
      "execution_count": 29,
      "outputs": [
        {
          "output_type": "execute_result",
          "data": {
            "text/plain": [
              "[Document(id='981369df-80c8-4895-bbc1-9c5b5f28cfab', metadata={'source': 'https://www.financialexpress.com/money/cabinet-approves-incentive-scheme-for-low-value-upi-transactions-check-details-3781982/', 'title': 'Cabinet approves incentive scheme for low-value UPI transactions - Check details - Money News | The Financial Express', 'description': 'The incentive will be provided at the rate of 0.15% per transaction value for transactions up to Rs 2,000 pertaining to category of small merchants, the government said in an official release.', 'language': 'en'}, page_content='Funds       Business NewsmoneyCabinet approves incentive scheme for low-value UPI transactions - Check details  Cabinet approves incentive scheme for low-value UPI transactions – Check details The incentive will be provided at the rate of 0.15% per transaction value for transactions up to Rs 2,000 pertaining to category of small merchants, the government said in an official release.'),\n",
              " Document(id='d53fb5fc-aa1a-4178-9de2-a890fff631b9', metadata={'source': 'https://www.financialexpress.com/money/cabinet-approves-incentive-scheme-for-low-value-upi-transactions-check-details-3781982/', 'title': 'Cabinet approves incentive scheme for low-value UPI transactions - Check details - Money News | The Financial Express', 'description': 'The incentive will be provided at the rate of 0.15% per transaction value for transactions up to Rs 2,000 pertaining to category of small merchants, the government said in an official release.', 'language': 'en'}, page_content='The release said that around 20% incentive is contingent upon banks maintaining high system uptime and low technical decline. This will ensure round-the-clock availability of payment services to citizens. Judicious balance of both the growth of UPI transactions and the minimum financial burden on the Government exchequer.  TOPICSdigital paymentUPIGet Live Share Market updates, Stock Market Quotes, and the latest India News and business news on Financial Express. Download the Financial Express'),\n",
              " Document(id='d7471683-2919-47fe-a838-04c9e9bcf4e9', metadata={'source': 'https://www.financialexpress.com/money/cabinet-approves-incentive-scheme-for-low-value-upi-transactions-check-details-3781982/', 'title': 'Cabinet approves incentive scheme for low-value UPI transactions - Check details - Money News | The Financial Express', 'description': 'The incentive will be provided at the rate of 0.15% per transaction value for transactions up to Rs 2,000 pertaining to category of small merchants, the government said in an official release.', 'language': 'en'}, page_content='The incentive will be provided at the rate of 0.15% per transaction value for transactions up to Rs 2,000 pertaining to the category of small merchants, the government said in an official release.\\nFor all the quarters of the scheme, 80% of the admitted claim amount by the acquiring banks will be disbursed without any conditions. The reimbursement of the remaining 20% of the admitted claim amount for each quarter will be contingent upon fulfilment of the following conditions:')]"
            ]
          },
          "metadata": {},
          "execution_count": 29
        }
      ]
    },
    {
      "cell_type": "code",
      "source": [
        "app.generate()"
      ],
      "metadata": {
        "colab": {
          "base_uri": "https://localhost:8080/",
          "height": 36
        },
        "id": "Is-b5GA1erXB",
        "outputId": "9adb8ed3-5178-4779-ca7c-cc6b5194471c"
      },
      "execution_count": 30,
      "outputs": [
        {
          "output_type": "execute_result",
          "data": {
            "text/plain": [
              "'The incentive will be provided to small merchants for low-value UPI transactions up to ₹2,000. The incentive is set at 0.15% per transaction value.'"
            ],
            "application/vnd.google.colaboratory.intrinsic+json": {
              "type": "string"
            }
          },
          "metadata": {},
          "execution_count": 30
        }
      ]
    },
    {
      "cell_type": "code",
      "source": [],
      "metadata": {
        "id": "-tHa56qeewDN"
      },
      "execution_count": null,
      "outputs": []
    }
  ]
}